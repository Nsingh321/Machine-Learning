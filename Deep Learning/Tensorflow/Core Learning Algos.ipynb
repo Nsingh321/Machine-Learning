{
 "cells": [
  {
   "cell_type": "markdown",
   "id": "6d18617c",
   "metadata": {},
   "source": [
    "# Linear Regression"
   ]
  },
  {
   "cell_type": "code",
   "execution_count": 1,
   "id": "3cea14f6",
   "metadata": {},
   "outputs": [],
   "source": [
    "# Data points are releated linearly coorelated. "
   ]
  },
  {
   "cell_type": "code",
   "execution_count": 2,
   "id": "ce65ac1b",
   "metadata": {},
   "outputs": [],
   "source": [
    "import numpy as np\n",
    "import pandas as pd\n",
    "import matplotlib.pyplot as plt\n",
    "\n",
    "import tensorflow.compat.v2.feature_column as fc\n",
    "import tensorflow as tf"
   ]
  },
  {
   "cell_type": "code",
   "execution_count": 3,
   "id": "a5cab253",
   "metadata": {},
   "outputs": [],
   "source": [
    "# load data\n",
    "\n",
    "# training data\n",
    "df_train = pd.read_csv('https://storage.googleapis.com/tf-datasets/titanic/train.csv') \n",
    "\n",
    "# testing data\n",
    "df_eval = pd.read_csv('https://storage.googleapis.com/tf-datasets/titanic/eval.csv') "
   ]
  },
  {
   "cell_type": "code",
   "execution_count": 4,
   "id": "fce101f0",
   "metadata": {},
   "outputs": [
    {
     "data": {
      "text/html": [
       "<div>\n",
       "<style scoped>\n",
       "    .dataframe tbody tr th:only-of-type {\n",
       "        vertical-align: middle;\n",
       "    }\n",
       "\n",
       "    .dataframe tbody tr th {\n",
       "        vertical-align: top;\n",
       "    }\n",
       "\n",
       "    .dataframe thead th {\n",
       "        text-align: right;\n",
       "    }\n",
       "</style>\n",
       "<table border=\"1\" class=\"dataframe\">\n",
       "  <thead>\n",
       "    <tr style=\"text-align: right;\">\n",
       "      <th></th>\n",
       "      <th>survived</th>\n",
       "      <th>sex</th>\n",
       "      <th>age</th>\n",
       "      <th>n_siblings_spouses</th>\n",
       "      <th>parch</th>\n",
       "      <th>fare</th>\n",
       "      <th>class</th>\n",
       "      <th>deck</th>\n",
       "      <th>embark_town</th>\n",
       "      <th>alone</th>\n",
       "    </tr>\n",
       "  </thead>\n",
       "  <tbody>\n",
       "    <tr>\n",
       "      <th>0</th>\n",
       "      <td>0</td>\n",
       "      <td>male</td>\n",
       "      <td>22.0</td>\n",
       "      <td>1</td>\n",
       "      <td>0</td>\n",
       "      <td>7.2500</td>\n",
       "      <td>Third</td>\n",
       "      <td>unknown</td>\n",
       "      <td>Southampton</td>\n",
       "      <td>n</td>\n",
       "    </tr>\n",
       "    <tr>\n",
       "      <th>1</th>\n",
       "      <td>1</td>\n",
       "      <td>female</td>\n",
       "      <td>38.0</td>\n",
       "      <td>1</td>\n",
       "      <td>0</td>\n",
       "      <td>71.2833</td>\n",
       "      <td>First</td>\n",
       "      <td>C</td>\n",
       "      <td>Cherbourg</td>\n",
       "      <td>n</td>\n",
       "    </tr>\n",
       "    <tr>\n",
       "      <th>2</th>\n",
       "      <td>1</td>\n",
       "      <td>female</td>\n",
       "      <td>26.0</td>\n",
       "      <td>0</td>\n",
       "      <td>0</td>\n",
       "      <td>7.9250</td>\n",
       "      <td>Third</td>\n",
       "      <td>unknown</td>\n",
       "      <td>Southampton</td>\n",
       "      <td>y</td>\n",
       "    </tr>\n",
       "    <tr>\n",
       "      <th>3</th>\n",
       "      <td>1</td>\n",
       "      <td>female</td>\n",
       "      <td>35.0</td>\n",
       "      <td>1</td>\n",
       "      <td>0</td>\n",
       "      <td>53.1000</td>\n",
       "      <td>First</td>\n",
       "      <td>C</td>\n",
       "      <td>Southampton</td>\n",
       "      <td>n</td>\n",
       "    </tr>\n",
       "    <tr>\n",
       "      <th>4</th>\n",
       "      <td>0</td>\n",
       "      <td>male</td>\n",
       "      <td>28.0</td>\n",
       "      <td>0</td>\n",
       "      <td>0</td>\n",
       "      <td>8.4583</td>\n",
       "      <td>Third</td>\n",
       "      <td>unknown</td>\n",
       "      <td>Queenstown</td>\n",
       "      <td>y</td>\n",
       "    </tr>\n",
       "    <tr>\n",
       "      <th>5</th>\n",
       "      <td>0</td>\n",
       "      <td>male</td>\n",
       "      <td>2.0</td>\n",
       "      <td>3</td>\n",
       "      <td>1</td>\n",
       "      <td>21.0750</td>\n",
       "      <td>Third</td>\n",
       "      <td>unknown</td>\n",
       "      <td>Southampton</td>\n",
       "      <td>n</td>\n",
       "    </tr>\n",
       "    <tr>\n",
       "      <th>6</th>\n",
       "      <td>1</td>\n",
       "      <td>female</td>\n",
       "      <td>27.0</td>\n",
       "      <td>0</td>\n",
       "      <td>2</td>\n",
       "      <td>11.1333</td>\n",
       "      <td>Third</td>\n",
       "      <td>unknown</td>\n",
       "      <td>Southampton</td>\n",
       "      <td>n</td>\n",
       "    </tr>\n",
       "    <tr>\n",
       "      <th>7</th>\n",
       "      <td>1</td>\n",
       "      <td>female</td>\n",
       "      <td>14.0</td>\n",
       "      <td>1</td>\n",
       "      <td>0</td>\n",
       "      <td>30.0708</td>\n",
       "      <td>Second</td>\n",
       "      <td>unknown</td>\n",
       "      <td>Cherbourg</td>\n",
       "      <td>n</td>\n",
       "    </tr>\n",
       "    <tr>\n",
       "      <th>8</th>\n",
       "      <td>1</td>\n",
       "      <td>female</td>\n",
       "      <td>4.0</td>\n",
       "      <td>1</td>\n",
       "      <td>1</td>\n",
       "      <td>16.7000</td>\n",
       "      <td>Third</td>\n",
       "      <td>G</td>\n",
       "      <td>Southampton</td>\n",
       "      <td>n</td>\n",
       "    </tr>\n",
       "    <tr>\n",
       "      <th>9</th>\n",
       "      <td>0</td>\n",
       "      <td>male</td>\n",
       "      <td>20.0</td>\n",
       "      <td>0</td>\n",
       "      <td>0</td>\n",
       "      <td>8.0500</td>\n",
       "      <td>Third</td>\n",
       "      <td>unknown</td>\n",
       "      <td>Southampton</td>\n",
       "      <td>y</td>\n",
       "    </tr>\n",
       "  </tbody>\n",
       "</table>\n",
       "</div>"
      ],
      "text/plain": [
       "   survived     sex   age  n_siblings_spouses  parch     fare   class  \\\n",
       "0         0    male  22.0                   1      0   7.2500   Third   \n",
       "1         1  female  38.0                   1      0  71.2833   First   \n",
       "2         1  female  26.0                   0      0   7.9250   Third   \n",
       "3         1  female  35.0                   1      0  53.1000   First   \n",
       "4         0    male  28.0                   0      0   8.4583   Third   \n",
       "5         0    male   2.0                   3      1  21.0750   Third   \n",
       "6         1  female  27.0                   0      2  11.1333   Third   \n",
       "7         1  female  14.0                   1      0  30.0708  Second   \n",
       "8         1  female   4.0                   1      1  16.7000   Third   \n",
       "9         0    male  20.0                   0      0   8.0500   Third   \n",
       "\n",
       "      deck  embark_town alone  \n",
       "0  unknown  Southampton     n  \n",
       "1        C    Cherbourg     n  \n",
       "2  unknown  Southampton     y  \n",
       "3        C  Southampton     n  \n",
       "4  unknown   Queenstown     y  \n",
       "5  unknown  Southampton     n  \n",
       "6  unknown  Southampton     n  \n",
       "7  unknown    Cherbourg     n  \n",
       "8        G  Southampton     n  \n",
       "9  unknown  Southampton     y  "
      ]
     },
     "execution_count": 4,
     "metadata": {},
     "output_type": "execute_result"
    }
   ],
   "source": [
    "df_train.head(10)"
   ]
  },
  {
   "cell_type": "code",
   "execution_count": 5,
   "id": "b00e94e9",
   "metadata": {},
   "outputs": [
    {
     "data": {
      "text/plain": [
       "0      0\n",
       "1      1\n",
       "2      1\n",
       "3      1\n",
       "4      0\n",
       "      ..\n",
       "622    0\n",
       "623    0\n",
       "624    1\n",
       "625    0\n",
       "626    0\n",
       "Name: survived, Length: 627, dtype: int64"
      ]
     },
     "execution_count": 5,
     "metadata": {},
     "output_type": "execute_result"
    }
   ],
   "source": [
    "y_train = df_train.pop('survived')\n",
    "y_eval = df_eval.pop('survived')\n",
    "\n",
    "(y_train)"
   ]
  },
  {
   "cell_type": "code",
   "execution_count": 6,
   "id": "a1d98361",
   "metadata": {},
   "outputs": [
    {
     "data": {
      "text/html": [
       "<div>\n",
       "<style scoped>\n",
       "    .dataframe tbody tr th:only-of-type {\n",
       "        vertical-align: middle;\n",
       "    }\n",
       "\n",
       "    .dataframe tbody tr th {\n",
       "        vertical-align: top;\n",
       "    }\n",
       "\n",
       "    .dataframe thead th {\n",
       "        text-align: right;\n",
       "    }\n",
       "</style>\n",
       "<table border=\"1\" class=\"dataframe\">\n",
       "  <thead>\n",
       "    <tr style=\"text-align: right;\">\n",
       "      <th></th>\n",
       "      <th>sex</th>\n",
       "      <th>age</th>\n",
       "      <th>n_siblings_spouses</th>\n",
       "      <th>parch</th>\n",
       "      <th>fare</th>\n",
       "      <th>class</th>\n",
       "      <th>deck</th>\n",
       "      <th>embark_town</th>\n",
       "      <th>alone</th>\n",
       "    </tr>\n",
       "  </thead>\n",
       "  <tbody>\n",
       "    <tr>\n",
       "      <th>0</th>\n",
       "      <td>male</td>\n",
       "      <td>22.0</td>\n",
       "      <td>1</td>\n",
       "      <td>0</td>\n",
       "      <td>7.2500</td>\n",
       "      <td>Third</td>\n",
       "      <td>unknown</td>\n",
       "      <td>Southampton</td>\n",
       "      <td>n</td>\n",
       "    </tr>\n",
       "    <tr>\n",
       "      <th>1</th>\n",
       "      <td>female</td>\n",
       "      <td>38.0</td>\n",
       "      <td>1</td>\n",
       "      <td>0</td>\n",
       "      <td>71.2833</td>\n",
       "      <td>First</td>\n",
       "      <td>C</td>\n",
       "      <td>Cherbourg</td>\n",
       "      <td>n</td>\n",
       "    </tr>\n",
       "    <tr>\n",
       "      <th>2</th>\n",
       "      <td>female</td>\n",
       "      <td>26.0</td>\n",
       "      <td>0</td>\n",
       "      <td>0</td>\n",
       "      <td>7.9250</td>\n",
       "      <td>Third</td>\n",
       "      <td>unknown</td>\n",
       "      <td>Southampton</td>\n",
       "      <td>y</td>\n",
       "    </tr>\n",
       "    <tr>\n",
       "      <th>3</th>\n",
       "      <td>female</td>\n",
       "      <td>35.0</td>\n",
       "      <td>1</td>\n",
       "      <td>0</td>\n",
       "      <td>53.1000</td>\n",
       "      <td>First</td>\n",
       "      <td>C</td>\n",
       "      <td>Southampton</td>\n",
       "      <td>n</td>\n",
       "    </tr>\n",
       "    <tr>\n",
       "      <th>4</th>\n",
       "      <td>male</td>\n",
       "      <td>28.0</td>\n",
       "      <td>0</td>\n",
       "      <td>0</td>\n",
       "      <td>8.4583</td>\n",
       "      <td>Third</td>\n",
       "      <td>unknown</td>\n",
       "      <td>Queenstown</td>\n",
       "      <td>y</td>\n",
       "    </tr>\n",
       "    <tr>\n",
       "      <th>...</th>\n",
       "      <td>...</td>\n",
       "      <td>...</td>\n",
       "      <td>...</td>\n",
       "      <td>...</td>\n",
       "      <td>...</td>\n",
       "      <td>...</td>\n",
       "      <td>...</td>\n",
       "      <td>...</td>\n",
       "      <td>...</td>\n",
       "    </tr>\n",
       "    <tr>\n",
       "      <th>622</th>\n",
       "      <td>male</td>\n",
       "      <td>28.0</td>\n",
       "      <td>0</td>\n",
       "      <td>0</td>\n",
       "      <td>10.5000</td>\n",
       "      <td>Second</td>\n",
       "      <td>unknown</td>\n",
       "      <td>Southampton</td>\n",
       "      <td>y</td>\n",
       "    </tr>\n",
       "    <tr>\n",
       "      <th>623</th>\n",
       "      <td>male</td>\n",
       "      <td>25.0</td>\n",
       "      <td>0</td>\n",
       "      <td>0</td>\n",
       "      <td>7.0500</td>\n",
       "      <td>Third</td>\n",
       "      <td>unknown</td>\n",
       "      <td>Southampton</td>\n",
       "      <td>y</td>\n",
       "    </tr>\n",
       "    <tr>\n",
       "      <th>624</th>\n",
       "      <td>female</td>\n",
       "      <td>19.0</td>\n",
       "      <td>0</td>\n",
       "      <td>0</td>\n",
       "      <td>30.0000</td>\n",
       "      <td>First</td>\n",
       "      <td>B</td>\n",
       "      <td>Southampton</td>\n",
       "      <td>y</td>\n",
       "    </tr>\n",
       "    <tr>\n",
       "      <th>625</th>\n",
       "      <td>female</td>\n",
       "      <td>28.0</td>\n",
       "      <td>1</td>\n",
       "      <td>2</td>\n",
       "      <td>23.4500</td>\n",
       "      <td>Third</td>\n",
       "      <td>unknown</td>\n",
       "      <td>Southampton</td>\n",
       "      <td>n</td>\n",
       "    </tr>\n",
       "    <tr>\n",
       "      <th>626</th>\n",
       "      <td>male</td>\n",
       "      <td>32.0</td>\n",
       "      <td>0</td>\n",
       "      <td>0</td>\n",
       "      <td>7.7500</td>\n",
       "      <td>Third</td>\n",
       "      <td>unknown</td>\n",
       "      <td>Queenstown</td>\n",
       "      <td>y</td>\n",
       "    </tr>\n",
       "  </tbody>\n",
       "</table>\n",
       "<p>627 rows × 9 columns</p>\n",
       "</div>"
      ],
      "text/plain": [
       "        sex   age  n_siblings_spouses  parch     fare   class     deck  \\\n",
       "0      male  22.0                   1      0   7.2500   Third  unknown   \n",
       "1    female  38.0                   1      0  71.2833   First        C   \n",
       "2    female  26.0                   0      0   7.9250   Third  unknown   \n",
       "3    female  35.0                   1      0  53.1000   First        C   \n",
       "4      male  28.0                   0      0   8.4583   Third  unknown   \n",
       "..      ...   ...                 ...    ...      ...     ...      ...   \n",
       "622    male  28.0                   0      0  10.5000  Second  unknown   \n",
       "623    male  25.0                   0      0   7.0500   Third  unknown   \n",
       "624  female  19.0                   0      0  30.0000   First        B   \n",
       "625  female  28.0                   1      2  23.4500   Third  unknown   \n",
       "626    male  32.0                   0      0   7.7500   Third  unknown   \n",
       "\n",
       "     embark_town alone  \n",
       "0    Southampton     n  \n",
       "1      Cherbourg     n  \n",
       "2    Southampton     y  \n",
       "3    Southampton     n  \n",
       "4     Queenstown     y  \n",
       "..           ...   ...  \n",
       "622  Southampton     y  \n",
       "623  Southampton     y  \n",
       "624  Southampton     y  \n",
       "625  Southampton     n  \n",
       "626   Queenstown     y  \n",
       "\n",
       "[627 rows x 9 columns]"
      ]
     },
     "execution_count": 6,
     "metadata": {},
     "output_type": "execute_result"
    }
   ],
   "source": [
    "df_train"
   ]
  },
  {
   "cell_type": "code",
   "execution_count": 7,
   "id": "7fb6e58c",
   "metadata": {},
   "outputs": [
    {
     "name": "stdout",
     "output_type": "stream",
     "text": [
      "sex                        female\n",
      "age                          26.0\n",
      "n_siblings_spouses              0\n",
      "parch                           0\n",
      "fare                        7.925\n",
      "class                       Third\n",
      "deck                      unknown\n",
      "embark_town           Southampton\n",
      "alone                           y\n",
      "Name: 2, dtype: object 1\n"
     ]
    }
   ],
   "source": [
    "print(df_train.iloc[2] , y_train.iloc[2])"
   ]
  },
  {
   "cell_type": "code",
   "execution_count": 8,
   "id": "f74c41e5",
   "metadata": {},
   "outputs": [
    {
     "data": {
      "text/html": [
       "<div>\n",
       "<style scoped>\n",
       "    .dataframe tbody tr th:only-of-type {\n",
       "        vertical-align: middle;\n",
       "    }\n",
       "\n",
       "    .dataframe tbody tr th {\n",
       "        vertical-align: top;\n",
       "    }\n",
       "\n",
       "    .dataframe thead th {\n",
       "        text-align: right;\n",
       "    }\n",
       "</style>\n",
       "<table border=\"1\" class=\"dataframe\">\n",
       "  <thead>\n",
       "    <tr style=\"text-align: right;\">\n",
       "      <th></th>\n",
       "      <th>age</th>\n",
       "      <th>n_siblings_spouses</th>\n",
       "      <th>parch</th>\n",
       "      <th>fare</th>\n",
       "    </tr>\n",
       "  </thead>\n",
       "  <tbody>\n",
       "    <tr>\n",
       "      <th>count</th>\n",
       "      <td>627.000000</td>\n",
       "      <td>627.000000</td>\n",
       "      <td>627.000000</td>\n",
       "      <td>627.000000</td>\n",
       "    </tr>\n",
       "    <tr>\n",
       "      <th>mean</th>\n",
       "      <td>29.631308</td>\n",
       "      <td>0.545455</td>\n",
       "      <td>0.379585</td>\n",
       "      <td>34.385399</td>\n",
       "    </tr>\n",
       "    <tr>\n",
       "      <th>std</th>\n",
       "      <td>12.511818</td>\n",
       "      <td>1.151090</td>\n",
       "      <td>0.792999</td>\n",
       "      <td>54.597730</td>\n",
       "    </tr>\n",
       "    <tr>\n",
       "      <th>min</th>\n",
       "      <td>0.750000</td>\n",
       "      <td>0.000000</td>\n",
       "      <td>0.000000</td>\n",
       "      <td>0.000000</td>\n",
       "    </tr>\n",
       "    <tr>\n",
       "      <th>25%</th>\n",
       "      <td>23.000000</td>\n",
       "      <td>0.000000</td>\n",
       "      <td>0.000000</td>\n",
       "      <td>7.895800</td>\n",
       "    </tr>\n",
       "    <tr>\n",
       "      <th>50%</th>\n",
       "      <td>28.000000</td>\n",
       "      <td>0.000000</td>\n",
       "      <td>0.000000</td>\n",
       "      <td>15.045800</td>\n",
       "    </tr>\n",
       "    <tr>\n",
       "      <th>75%</th>\n",
       "      <td>35.000000</td>\n",
       "      <td>1.000000</td>\n",
       "      <td>0.000000</td>\n",
       "      <td>31.387500</td>\n",
       "    </tr>\n",
       "    <tr>\n",
       "      <th>max</th>\n",
       "      <td>80.000000</td>\n",
       "      <td>8.000000</td>\n",
       "      <td>5.000000</td>\n",
       "      <td>512.329200</td>\n",
       "    </tr>\n",
       "  </tbody>\n",
       "</table>\n",
       "</div>"
      ],
      "text/plain": [
       "              age  n_siblings_spouses       parch        fare\n",
       "count  627.000000          627.000000  627.000000  627.000000\n",
       "mean    29.631308            0.545455    0.379585   34.385399\n",
       "std     12.511818            1.151090    0.792999   54.597730\n",
       "min      0.750000            0.000000    0.000000    0.000000\n",
       "25%     23.000000            0.000000    0.000000    7.895800\n",
       "50%     28.000000            0.000000    0.000000   15.045800\n",
       "75%     35.000000            1.000000    0.000000   31.387500\n",
       "max     80.000000            8.000000    5.000000  512.329200"
      ]
     },
     "execution_count": 8,
     "metadata": {},
     "output_type": "execute_result"
    }
   ],
   "source": [
    "df_train.describe()"
   ]
  },
  {
   "cell_type": "code",
   "execution_count": 9,
   "id": "235f5ba5",
   "metadata": {},
   "outputs": [
    {
     "data": {
      "text/plain": [
       "(627, 9)"
      ]
     },
     "execution_count": 9,
     "metadata": {},
     "output_type": "execute_result"
    }
   ],
   "source": [
    "df_train.shape"
   ]
  },
  {
   "cell_type": "code",
   "execution_count": 10,
   "id": "b7b8f4a9",
   "metadata": {},
   "outputs": [
    {
     "data": {
      "text/plain": [
       "<AxesSubplot:>"
      ]
     },
     "execution_count": 10,
     "metadata": {},
     "output_type": "execute_result"
    },
    {
     "data": {
      "image/png": "[encoded data removed]",
      "text/plain": [
       "<Figure size 432x288 with 1 Axes>"
      ]
     },
     "metadata": {
      "needs_background": "light"
     },
     "output_type": "display_data"
    }
   ],
   "source": [
    "df_train.age.hist(bins=20)"
   ]
  },
  {
   "cell_type": "code",
   "execution_count": 11,
   "id": "d54ab909",
   "metadata": {},
   "outputs": [
    {
     "data": {
      "text/plain": [
       "<AxesSubplot:>"
      ]
     },
     "execution_count": 11,
     "metadata": {},
     "output_type": "execute_result"
    },
    {
     "data": {
      "image/png": "[encoded data removed]",
      "text/plain": [
       "<Figure size 432x288 with 1 Axes>"
      ]
     },
     "metadata": {
      "needs_background": "light"
     },
     "output_type": "display_data"
    }
   ],
   "source": [
    "df_train.sex.value_counts().plot(kind='barh')"
   ]
  },
  {
   "cell_type": "code",
   "execution_count": 12,
   "id": "5661a314",
   "metadata": {},
   "outputs": [
    {
     "data": {
      "text/plain": [
       "<AxesSubplot:>"
      ]
     },
     "execution_count": 12,
     "metadata": {},
     "output_type": "execute_result"
    },
    {
     "data": {
      "image/png": "[encoded data removed]",
      "text/plain": [
       "<Figure size 432x288 with 1 Axes>"
      ]
     },
     "metadata": {
      "needs_background": "light"
     },
     "output_type": "display_data"
    }
   ],
   "source": [
    "df_train['class'].value_counts().plot(kind='barh')"
   ]
  },
  {
   "cell_type": "code",
   "execution_count": 13,
   "id": "db36f94a",
   "metadata": {},
   "outputs": [
    {
     "data": {
      "text/html": [
       "<div>\n",
       "<style scoped>\n",
       "    .dataframe tbody tr th:only-of-type {\n",
       "        vertical-align: middle;\n",
       "    }\n",
       "\n",
       "    .dataframe tbody tr th {\n",
       "        vertical-align: top;\n",
       "    }\n",
       "\n",
       "    .dataframe thead th {\n",
       "        text-align: right;\n",
       "    }\n",
       "</style>\n",
       "<table border=\"1\" class=\"dataframe\">\n",
       "  <thead>\n",
       "    <tr style=\"text-align: right;\">\n",
       "      <th></th>\n",
       "      <th>sex</th>\n",
       "      <th>age</th>\n",
       "      <th>n_siblings_spouses</th>\n",
       "      <th>parch</th>\n",
       "      <th>fare</th>\n",
       "      <th>class</th>\n",
       "      <th>deck</th>\n",
       "      <th>embark_town</th>\n",
       "      <th>alone</th>\n",
       "      <th>survived</th>\n",
       "    </tr>\n",
       "  </thead>\n",
       "  <tbody>\n",
       "    <tr>\n",
       "      <th>0</th>\n",
       "      <td>male</td>\n",
       "      <td>22.0</td>\n",
       "      <td>1</td>\n",
       "      <td>0</td>\n",
       "      <td>7.2500</td>\n",
       "      <td>Third</td>\n",
       "      <td>unknown</td>\n",
       "      <td>Southampton</td>\n",
       "      <td>n</td>\n",
       "      <td>0</td>\n",
       "    </tr>\n",
       "    <tr>\n",
       "      <th>1</th>\n",
       "      <td>female</td>\n",
       "      <td>38.0</td>\n",
       "      <td>1</td>\n",
       "      <td>0</td>\n",
       "      <td>71.2833</td>\n",
       "      <td>First</td>\n",
       "      <td>C</td>\n",
       "      <td>Cherbourg</td>\n",
       "      <td>n</td>\n",
       "      <td>1</td>\n",
       "    </tr>\n",
       "    <tr>\n",
       "      <th>2</th>\n",
       "      <td>female</td>\n",
       "      <td>26.0</td>\n",
       "      <td>0</td>\n",
       "      <td>0</td>\n",
       "      <td>7.9250</td>\n",
       "      <td>Third</td>\n",
       "      <td>unknown</td>\n",
       "      <td>Southampton</td>\n",
       "      <td>y</td>\n",
       "      <td>1</td>\n",
       "    </tr>\n",
       "    <tr>\n",
       "      <th>3</th>\n",
       "      <td>female</td>\n",
       "      <td>35.0</td>\n",
       "      <td>1</td>\n",
       "      <td>0</td>\n",
       "      <td>53.1000</td>\n",
       "      <td>First</td>\n",
       "      <td>C</td>\n",
       "      <td>Southampton</td>\n",
       "      <td>n</td>\n",
       "      <td>1</td>\n",
       "    </tr>\n",
       "    <tr>\n",
       "      <th>4</th>\n",
       "      <td>male</td>\n",
       "      <td>28.0</td>\n",
       "      <td>0</td>\n",
       "      <td>0</td>\n",
       "      <td>8.4583</td>\n",
       "      <td>Third</td>\n",
       "      <td>unknown</td>\n",
       "      <td>Queenstown</td>\n",
       "      <td>y</td>\n",
       "      <td>0</td>\n",
       "    </tr>\n",
       "    <tr>\n",
       "      <th>...</th>\n",
       "      <td>...</td>\n",
       "      <td>...</td>\n",
       "      <td>...</td>\n",
       "      <td>...</td>\n",
       "      <td>...</td>\n",
       "      <td>...</td>\n",
       "      <td>...</td>\n",
       "      <td>...</td>\n",
       "      <td>...</td>\n",
       "      <td>...</td>\n",
       "    </tr>\n",
       "    <tr>\n",
       "      <th>622</th>\n",
       "      <td>male</td>\n",
       "      <td>28.0</td>\n",
       "      <td>0</td>\n",
       "      <td>0</td>\n",
       "      <td>10.5000</td>\n",
       "      <td>Second</td>\n",
       "      <td>unknown</td>\n",
       "      <td>Southampton</td>\n",
       "      <td>y</td>\n",
       "      <td>0</td>\n",
       "    </tr>\n",
       "    <tr>\n",
       "      <th>623</th>\n",
       "      <td>male</td>\n",
       "      <td>25.0</td>\n",
       "      <td>0</td>\n",
       "      <td>0</td>\n",
       "      <td>7.0500</td>\n",
       "      <td>Third</td>\n",
       "      <td>unknown</td>\n",
       "      <td>Southampton</td>\n",
       "      <td>y</td>\n",
       "      <td>0</td>\n",
       "    </tr>\n",
       "    <tr>\n",
       "      <th>624</th>\n",
       "      <td>female</td>\n",
       "      <td>19.0</td>\n",
       "      <td>0</td>\n",
       "      <td>0</td>\n",
       "      <td>30.0000</td>\n",
       "      <td>First</td>\n",
       "      <td>B</td>\n",
       "      <td>Southampton</td>\n",
       "      <td>y</td>\n",
       "      <td>1</td>\n",
       "    </tr>\n",
       "    <tr>\n",
       "      <th>625</th>\n",
       "      <td>female</td>\n",
       "      <td>28.0</td>\n",
       "      <td>1</td>\n",
       "      <td>2</td>\n",
       "      <td>23.4500</td>\n",
       "      <td>Third</td>\n",
       "      <td>unknown</td>\n",
       "      <td>Southampton</td>\n",
       "      <td>n</td>\n",
       "      <td>0</td>\n",
       "    </tr>\n",
       "    <tr>\n",
       "      <th>626</th>\n",
       "      <td>male</td>\n",
       "      <td>32.0</td>\n",
       "      <td>0</td>\n",
       "      <td>0</td>\n",
       "      <td>7.7500</td>\n",
       "      <td>Third</td>\n",
       "      <td>unknown</td>\n",
       "      <td>Queenstown</td>\n",
       "      <td>y</td>\n",
       "      <td>0</td>\n",
       "    </tr>\n",
       "  </tbody>\n",
       "</table>\n",
       "<p>627 rows × 10 columns</p>\n",
       "</div>"
      ],
      "text/plain": [
       "        sex   age  n_siblings_spouses  parch     fare   class     deck  \\\n",
       "0      male  22.0                   1      0   7.2500   Third  unknown   \n",
       "1    female  38.0                   1      0  71.2833   First        C   \n",
       "2    female  26.0                   0      0   7.9250   Third  unknown   \n",
       "3    female  35.0                   1      0  53.1000   First        C   \n",
       "4      male  28.0                   0      0   8.4583   Third  unknown   \n",
       "..      ...   ...                 ...    ...      ...     ...      ...   \n",
       "622    male  28.0                   0      0  10.5000  Second  unknown   \n",
       "623    male  25.0                   0      0   7.0500   Third  unknown   \n",
       "624  female  19.0                   0      0  30.0000   First        B   \n",
       "625  female  28.0                   1      2  23.4500   Third  unknown   \n",
       "626    male  32.0                   0      0   7.7500   Third  unknown   \n",
       "\n",
       "     embark_town alone  survived  \n",
       "0    Southampton     n         0  \n",
       "1      Cherbourg     n         1  \n",
       "2    Southampton     y         1  \n",
       "3    Southampton     n         1  \n",
       "4     Queenstown     y         0  \n",
       "..           ...   ...       ...  \n",
       "622  Southampton     y         0  \n",
       "623  Southampton     y         0  \n",
       "624  Southampton     y         1  \n",
       "625  Southampton     n         0  \n",
       "626   Queenstown     y         0  \n",
       "\n",
       "[627 rows x 10 columns]"
      ]
     },
     "execution_count": 13,
     "metadata": {},
     "output_type": "execute_result"
    }
   ],
   "source": [
    "df2 = pd.concat([df_train , y_train],axis=1)\n",
    "df2"
   ]
  },
  {
   "cell_type": "code",
   "execution_count": 14,
   "id": "12fb6169",
   "metadata": {},
   "outputs": [
    {
     "data": {
      "text/plain": [
       "sex\n",
       "female    0.778802\n",
       "male      0.180488\n",
       "Name: survived, dtype: float64"
      ]
     },
     "execution_count": 14,
     "metadata": {},
     "output_type": "execute_result"
    }
   ],
   "source": [
    "gb = df2.groupby(by='sex').survived.mean()\n",
    "gb"
   ]
  },
  {
   "cell_type": "code",
   "execution_count": 15,
   "id": "dde00775",
   "metadata": {},
   "outputs": [
    {
     "data": {
      "text/plain": [
       "Text(0.5, 0, '% survived')"
      ]
     },
     "execution_count": 15,
     "metadata": {},
     "output_type": "execute_result"
    },
    {
     "data": {
      "image/png": "[encoded data removed]",
      "text/plain": [
       "<Figure size 432x288 with 1 Axes>"
      ]
     },
     "metadata": {
      "needs_background": "light"
     },
     "output_type": "display_data"
    }
   ],
   "source": [
    "gb.plot(kind='barh').set_xlabel('% survived')"
   ]
  },
  {
   "cell_type": "code",
   "execution_count": 16,
   "id": "a1ae31c6",
   "metadata": {},
   "outputs": [
    {
     "data": {
      "text/plain": [
       "(264, 9)"
      ]
     },
     "execution_count": 16,
     "metadata": {},
     "output_type": "execute_result"
    }
   ],
   "source": [
    "# testing set\n",
    "df_eval.shape"
   ]
  },
  {
   "cell_type": "code",
   "execution_count": 17,
   "id": "6de42222",
   "metadata": {},
   "outputs": [
    {
     "name": "stdout",
     "output_type": "stream",
     "text": [
      "['male' 'female']\n",
      "[VocabularyListCategoricalColumn(key='sex', vocabulary_list=('male', 'female'), dtype=tf.string, default_value=-1, num_oov_buckets=0)]\n",
      "\n",
      "\n",
      "[1 0 3 4 2 5 8]\n",
      "[VocabularyListCategoricalColumn(key='sex', vocabulary_list=('male', 'female'), dtype=tf.string, default_value=-1, num_oov_buckets=0), VocabularyListCategoricalColumn(key='n_siblings_spouses', vocabulary_list=(1, 0, 3, 4, 2, 5, 8), dtype=tf.int64, default_value=-1, num_oov_buckets=0)]\n",
      "\n",
      "\n",
      "[0 1 2 5 3 4]\n",
      "[VocabularyListCategoricalColumn(key='sex', vocabulary_list=('male', 'female'), dtype=tf.string, default_value=-1, num_oov_buckets=0), VocabularyListCategoricalColumn(key='n_siblings_spouses', vocabulary_list=(1, 0, 3, 4, 2, 5, 8), dtype=tf.int64, default_value=-1, num_oov_buckets=0), VocabularyListCategoricalColumn(key='parch', vocabulary_list=(0, 1, 2, 5, 3, 4), dtype=tf.int64, default_value=-1, num_oov_buckets=0)]\n",
      "\n",
      "\n",
      "['Third' 'First' 'Second']\n",
      "[VocabularyListCategoricalColumn(key='sex', vocabulary_list=('male', 'female'), dtype=tf.string, default_value=-1, num_oov_buckets=0), VocabularyListCategoricalColumn(key='n_siblings_spouses', vocabulary_list=(1, 0, 3, 4, 2, 5, 8), dtype=tf.int64, default_value=-1, num_oov_buckets=0), VocabularyListCategoricalColumn(key='parch', vocabulary_list=(0, 1, 2, 5, 3, 4), dtype=tf.int64, default_value=-1, num_oov_buckets=0), VocabularyListCategoricalColumn(key='class', vocabulary_list=('Third', 'First', 'Second'), dtype=tf.string, default_value=-1, num_oov_buckets=0)]\n",
      "\n",
      "\n",
      "['unknown' 'C' 'G' 'A' 'B' 'D' 'F' 'E']\n",
      "[VocabularyListCategoricalColumn(key='sex', vocabulary_list=('male', 'female'), dtype=tf.string, default_value=-1, num_oov_buckets=0), VocabularyListCategoricalColumn(key='n_siblings_spouses', vocabulary_list=(1, 0, 3, 4, 2, 5, 8), dtype=tf.int64, default_value=-1, num_oov_buckets=0), VocabularyListCategoricalColumn(key='parch', vocabulary_list=(0, 1, 2, 5, 3, 4), dtype=tf.int64, default_value=-1, num_oov_buckets=0), VocabularyListCategoricalColumn(key='class', vocabulary_list=('Third', 'First', 'Second'), dtype=tf.string, default_value=-1, num_oov_buckets=0), VocabularyListCategoricalColumn(key='deck', vocabulary_list=('unknown', 'C', 'G', 'A', 'B', 'D', 'F', 'E'), dtype=tf.string, default_value=-1, num_oov_buckets=0)]\n",
      "\n",
      "\n",
      "['Southampton' 'Cherbourg' 'Queenstown' 'unknown']\n",
      "[VocabularyListCategoricalColumn(key='sex', vocabulary_list=('male', 'female'), dtype=tf.string, default_value=-1, num_oov_buckets=0), VocabularyListCategoricalColumn(key='n_siblings_spouses', vocabulary_list=(1, 0, 3, 4, 2, 5, 8), dtype=tf.int64, default_value=-1, num_oov_buckets=0), VocabularyListCategoricalColumn(key='parch', vocabulary_list=(0, 1, 2, 5, 3, 4), dtype=tf.int64, default_value=-1, num_oov_buckets=0), VocabularyListCategoricalColumn(key='class', vocabulary_list=('Third', 'First', 'Second'), dtype=tf.string, default_value=-1, num_oov_buckets=0), VocabularyListCategoricalColumn(key='deck', vocabulary_list=('unknown', 'C', 'G', 'A', 'B', 'D', 'F', 'E'), dtype=tf.string, default_value=-1, num_oov_buckets=0), VocabularyListCategoricalColumn(key='embark_town', vocabulary_list=('Southampton', 'Cherbourg', 'Queenstown', 'unknown'), dtype=tf.string, default_value=-1, num_oov_buckets=0)]\n",
      "\n",
      "\n",
      "['n' 'y']\n",
      "[VocabularyListCategoricalColumn(key='sex', vocabulary_list=('male', 'female'), dtype=tf.string, default_value=-1, num_oov_buckets=0), VocabularyListCategoricalColumn(key='n_siblings_spouses', vocabulary_list=(1, 0, 3, 4, 2, 5, 8), dtype=tf.int64, default_value=-1, num_oov_buckets=0), VocabularyListCategoricalColumn(key='parch', vocabulary_list=(0, 1, 2, 5, 3, 4), dtype=tf.int64, default_value=-1, num_oov_buckets=0), VocabularyListCategoricalColumn(key='class', vocabulary_list=('Third', 'First', 'Second'), dtype=tf.string, default_value=-1, num_oov_buckets=0), VocabularyListCategoricalColumn(key='deck', vocabulary_list=('unknown', 'C', 'G', 'A', 'B', 'D', 'F', 'E'), dtype=tf.string, default_value=-1, num_oov_buckets=0), VocabularyListCategoricalColumn(key='embark_town', vocabulary_list=('Southampton', 'Cherbourg', 'Queenstown', 'unknown'), dtype=tf.string, default_value=-1, num_oov_buckets=0), VocabularyListCategoricalColumn(key='alone', vocabulary_list=('n', 'y'), dtype=tf.string, default_value=-1, num_oov_buckets=0)]\n",
      "\n",
      "\n",
      "[VocabularyListCategoricalColumn(key='sex', vocabulary_list=('male', 'female'), dtype=tf.string, default_value=-1, num_oov_buckets=0), VocabularyListCategoricalColumn(key='n_siblings_spouses', vocabulary_list=(1, 0, 3, 4, 2, 5, 8), dtype=tf.int64, default_value=-1, num_oov_buckets=0), VocabularyListCategoricalColumn(key='parch', vocabulary_list=(0, 1, 2, 5, 3, 4), dtype=tf.int64, default_value=-1, num_oov_buckets=0), VocabularyListCategoricalColumn(key='class', vocabulary_list=('Third', 'First', 'Second'), dtype=tf.string, default_value=-1, num_oov_buckets=0), VocabularyListCategoricalColumn(key='deck', vocabulary_list=('unknown', 'C', 'G', 'A', 'B', 'D', 'F', 'E'), dtype=tf.string, default_value=-1, num_oov_buckets=0), VocabularyListCategoricalColumn(key='embark_town', vocabulary_list=('Southampton', 'Cherbourg', 'Queenstown', 'unknown'), dtype=tf.string, default_value=-1, num_oov_buckets=0), VocabularyListCategoricalColumn(key='alone', vocabulary_list=('n', 'y'), dtype=tf.string, default_value=-1, num_oov_buckets=0), NumericColumn(key='age', shape=(1,), default_value=None, dtype=tf.float32, normalizer_fn=None), NumericColumn(key='fare', shape=(1,), default_value=None, dtype=tf.float32, normalizer_fn=None)]\n"
     ]
    }
   ],
   "source": [
    "# Making 'feature_columns '\n",
    "\n",
    "CATEGORICAL_COLUMNS = ['sex', 'n_siblings_spouses', 'parch', 'class', 'deck',\n",
    "                       'embark_town', 'alone']\n",
    "NUMERIC_COLUMNS = ['age', 'fare']\n",
    "\n",
    "feature_columns = []\n",
    "for feature_name in CATEGORICAL_COLUMNS:\n",
    "    \n",
    "    # gets a list of all unique values from given feature column\n",
    "    vocabulary = df_train[feature_name].unique()  \n",
    "    print(vocabulary)\n",
    "\n",
    "    #this will assign a unique value(id) to each of the elements in the vocabulary list and attach the feature name with it\n",
    "    feature_columns.append(tf.feature_column.categorical_column_with_vocabulary_list(feature_name, vocabulary))\n",
    "    print(feature_columns)\n",
    "    print('\\n')\n",
    "      \n",
    "\n",
    "for feature_name in NUMERIC_COLUMNS:\n",
    "    \n",
    "    feature_columns.append(tf.feature_column.numeric_column(feature_name, dtype=tf.float32))\n",
    "\n",
    "print(feature_columns)"
   ]
  },
  {
   "cell_type": "code",
   "execution_count": 18,
   "id": "d9f63fd3",
   "metadata": {},
   "outputs": [
    {
     "data": {
      "text/plain": [
       "VocabularyListCategoricalColumn(key='sex', vocabulary_list=('male', 'female'), dtype=tf.string, default_value=-1, num_oov_buckets=0)"
      ]
     },
     "execution_count": 18,
     "metadata": {},
     "output_type": "execute_result"
    }
   ],
   "source": [
    "feature_columns[0]"
   ]
  },
  {
   "cell_type": "code",
   "execution_count": 19,
   "id": "da10650e",
   "metadata": {},
   "outputs": [
    {
     "data": {
      "text/plain": [
       "VocabularyListCategoricalColumn(key='deck', vocabulary_list=('unknown', 'C', 'G', 'A', 'B', 'D', 'F', 'E'), dtype=tf.string, default_value=-1, num_oov_buckets=0)"
      ]
     },
     "execution_count": 19,
     "metadata": {},
     "output_type": "execute_result"
    }
   ],
   "source": [
    "feature_columns[4]"
   ]
  },
  {
   "cell_type": "code",
   "execution_count": 20,
   "id": "a0dbab52",
   "metadata": {},
   "outputs": [],
   "source": [
    "# epochs - if we have 10 epochs , our model will see the dataset 10 times"
   ]
  },
  {
   "cell_type": "code",
   "execution_count": 21,
   "id": "2a59ccde",
   "metadata": {},
   "outputs": [],
   "source": [
    "# The TensorFlow model we are going to use requires that the data we pass it comes in as a 'tf.data.Dataset object'. \n",
    "# This means we must create a input function that can convert our current pandas dataframe into that object.\n",
    "\n",
    "\n",
    "def make_input_fn(data_df, label_df, num_epochs=10, shuffle=True, batch_size=32):\n",
    "    \n",
    "    def input_function():  # inner function, this will be returned\n",
    "        \n",
    "        # create tf.data.Dataset object with data and its label\n",
    "        ds = tf.data.Dataset.from_tensor_slices((dict(data_df), label_df))  \n",
    "        \n",
    "        if shuffle:\n",
    "             # randomize order of data(shuffle the dataset)\n",
    "            ds = ds.shuffle(1000) \n",
    "            \n",
    "         # split dataset into batches of 32 and repeat process for number of epochs\n",
    "        ds = ds.batch(batch_size).repeat(num_epochs) \n",
    "        \n",
    "        # return a batch of the dataset\n",
    "        return ds \n",
    "    return input_function  # return a function object for use\n",
    "\n",
    "# here we will call the input_function that was returned to us to get a dataset object we can feed to the model\n",
    "train_input_fn = make_input_fn(df_train, y_train)  \n",
    "eval_input_fn = make_input_fn(df_eval, y_eval, num_epochs=1, shuffle=False) #shuffle=False because we are not training on this dataset"
   ]
  },
  {
   "cell_type": "code",
   "execution_count": 22,
   "id": "f1902dba",
   "metadata": {},
   "outputs": [
    {
     "name": "stdout",
     "output_type": "stream",
     "text": [
      "INFO:tensorflow:Using default config.\n",
      "WARNING:tensorflow:Using temporary folder as model directory: C:\\Users\\nishc\\AppData\\Local\\Temp\\tmp3eicalpg\n",
      "INFO:tensorflow:Using config: {'_model_dir': 'C:\\\\Users\\\\nishc\\\\AppData\\\\Local\\\\Temp\\\\tmp3eicalpg', '_tf_random_seed': None, '_save_summary_steps': 100, '_save_checkpoints_steps': None, '_save_checkpoints_secs': 600, '_session_config': allow_soft_placement: true\n",
      "graph_options {\n",
      "  rewrite_options {\n",
      "    meta_optimizer_iterations: ONE\n",
      "  }\n",
      "}\n",
      ", '_keep_checkpoint_max': 5, '_keep_checkpoint_every_n_hours': 10000, '_log_step_count_steps': 100, '_train_distribute': None, '_device_fn': None, '_protocol': None, '_eval_distribute': None, '_experimental_distribute': None, '_experimental_max_worker_delay_secs': None, '_session_creation_timeout_secs': 7200, '_checkpoint_save_graph_def': True, '_service': None, '_cluster_spec': ClusterSpec({}), '_task_type': 'worker', '_task_id': 0, '_global_id_in_cluster': 0, '_master': '', '_evaluation_master': '', '_is_chief': True, '_num_ps_replicas': 0, '_num_worker_replicas': 1}\n"
     ]
    }
   ],
   "source": [
    "# , a learning algorithm is an Estimator which trains on a DataFrame and produces a model.\n",
    "\n",
    "# create model\n",
    "linear_est = tf.estimator.LinearClassifier(feature_columns=feature_columns)"
   ]
  },
  {
   "cell_type": "code",
   "execution_count": 23,
   "id": "55b8b615",
   "metadata": {},
   "outputs": [
    {
     "name": "stdout",
     "output_type": "stream",
     "text": [
      "WARNING:tensorflow:From C:\\Users\\nishc\\anaconda3\\lib\\site-packages\\tensorflow\\python\\training\\training_util.py:396: Variable.initialized_value (from tensorflow.python.ops.variables) is deprecated and will be removed in a future version.\n",
      "Instructions for updating:\n",
      "Use Variable.read_value. Variables in 2.X are initialized automatically both in eager and graph (inside tf.defun) contexts.\n",
      "INFO:tensorflow:Calling model_fn.\n"
     ]
    },
    {
     "name": "stderr",
     "output_type": "stream",
     "text": [
      "C:\\Users\\nishc\\anaconda3\\lib\\site-packages\\tensorflow_estimator\\python\\estimator\\canned\\linear.py:1468: UserWarning: `layer.add_variable` is deprecated and will be removed in a future version. Please use `layer.add_weight` method instead.\n",
      "  self.bias = self.add_variable(\n"
     ]
    },
    {
     "name": "stdout",
     "output_type": "stream",
     "text": [
      "WARNING:tensorflow:From C:\\Users\\nishc\\anaconda3\\lib\\site-packages\\keras\\optimizer_v2\\ftrl.py:148: calling Constant.__init__ (from tensorflow.python.ops.init_ops) with dtype is deprecated and will be removed in a future version.\n",
      "Instructions for updating:\n",
      "Call initializer instance with the dtype argument instead of passing it to the constructor\n",
      "INFO:tensorflow:Done calling model_fn.\n",
      "INFO:tensorflow:Create CheckpointSaverHook.\n",
      "INFO:tensorflow:Graph was finalized.\n",
      "INFO:tensorflow:Running local_init_op.\n",
      "INFO:tensorflow:Done running local_init_op.\n",
      "INFO:tensorflow:Calling checkpoint listeners before saving checkpoint 0...\n",
      "INFO:tensorflow:Saving checkpoints for 0 into C:\\Users\\nishc\\AppData\\Local\\Temp\\tmp3eicalpg\\model.ckpt.\n",
      "INFO:tensorflow:Calling checkpoint listeners after saving checkpoint 0...\n",
      "INFO:tensorflow:loss = 0.6931472, step = 0\n",
      "INFO:tensorflow:global_step/sec: 117.17\n",
      "INFO:tensorflow:loss = 0.4270056, step = 100 (0.857 sec)\n",
      "INFO:tensorflow:Calling checkpoint listeners before saving checkpoint 200...\n",
      "INFO:tensorflow:Saving checkpoints for 200 into C:\\Users\\nishc\\AppData\\Local\\Temp\\tmp3eicalpg\\model.ckpt.\n",
      "INFO:tensorflow:Calling checkpoint listeners after saving checkpoint 200...\n",
      "INFO:tensorflow:Loss for final step: 0.35852045.\n",
      "INFO:tensorflow:Calling model_fn.\n",
      "INFO:tensorflow:Done calling model_fn.\n",
      "INFO:tensorflow:Starting evaluation at 2022-07-16T09:32:24\n",
      "INFO:tensorflow:Graph was finalized.\n",
      "INFO:tensorflow:Restoring parameters from C:\\Users\\nishc\\AppData\\Local\\Temp\\tmp3eicalpg\\model.ckpt-200\n",
      "INFO:tensorflow:Running local_init_op.\n",
      "INFO:tensorflow:Done running local_init_op.\n",
      "INFO:tensorflow:Inference Time : 1.28222s\n",
      "INFO:tensorflow:Finished evaluation at 2022-07-16-09:32:26\n",
      "INFO:tensorflow:Saving dict for global step 200: accuracy = 0.7537879, accuracy_baseline = 0.625, auc = 0.83021116, auc_precision_recall = 0.7726906, average_loss = 0.48673463, global_step = 200, label/mean = 0.375, loss = 0.48066944, precision = 0.6574074, prediction/mean = 0.40083104, recall = 0.7171717\n",
      "INFO:tensorflow:Saving 'checkpoint_path' summary for global step 200: C:\\Users\\nishc\\AppData\\Local\\Temp\\tmp3eicalpg\\model.ckpt-200\n",
      "accuracy 0.7537879\n"
     ]
    }
   ],
   "source": [
    "# training the model\n",
    "linear_est.train(input_fn=train_input_fn)\n",
    "\n",
    "# get model stats/metrics by testing on testing data\n",
    "result = linear_est.evaluate(input_fn=eval_input_fn)\n",
    "\n",
    "# print(result)\n",
    "print('accuracy',result['accuracy']) #around 76% accuracy"
   ]
  },
  {
   "cell_type": "code",
   "execution_count": 24,
   "id": "c13ba9d7",
   "metadata": {},
   "outputs": [
    {
     "name": "stdout",
     "output_type": "stream",
     "text": [
      "INFO:tensorflow:Calling model_fn.\n",
      "INFO:tensorflow:Done calling model_fn.\n",
      "INFO:tensorflow:Graph was finalized.\n",
      "INFO:tensorflow:Restoring parameters from C:\\Users\\nishc\\AppData\\Local\\Temp\\tmp3eicalpg\\model.ckpt-200\n",
      "INFO:tensorflow:Running local_init_op.\n",
      "INFO:tensorflow:Done running local_init_op.\n",
      "sex                          male\n",
      "age                          35.0\n",
      "n_siblings_spouses              0\n",
      "parch                           0\n",
      "fare                         8.05\n",
      "class                       Third\n",
      "deck                      unknown\n",
      "embark_town           Southampton\n",
      "alone                           y\n",
      "Name: 0, dtype: object\n",
      "[0.9380196  0.06198037]\n"
     ]
    }
   ],
   "source": [
    "# check the actual predictions\n",
    "result = list(linear_est.predict(input_fn=eval_input_fn))\n",
    "# print(result)\n",
    "print(df_eval.loc[0])\n",
    "print(result[0]['probabilities']) #survival % = 4.3"
   ]
  },
  {
   "cell_type": "code",
   "execution_count": 25,
   "id": "1dca0528",
   "metadata": {},
   "outputs": [
    {
     "name": "stdout",
     "output_type": "stream",
     "text": [
      "sex                        female\n",
      "age                          58.0\n",
      "n_siblings_spouses              0\n",
      "parch                           0\n",
      "fare                        26.55\n",
      "class                       First\n",
      "deck                            C\n",
      "embark_town           Southampton\n",
      "alone                           y\n",
      "Name: 2, dtype: object\n",
      "actual value is 1\n",
      "[0.30447823 0.6955218 ]\n"
     ]
    }
   ],
   "source": [
    "print(df_eval.loc[2])\n",
    "print(f'actual value is {y_eval.loc[2]}')\n",
    "print(result[2]['probabilities']) #55.18%  = survival %"
   ]
  },
  {
   "cell_type": "code",
   "execution_count": 26,
   "id": "5c5e75e8",
   "metadata": {},
   "outputs": [
    {
     "name": "stdout",
     "output_type": "stream",
     "text": [
      "sex                          male\n",
      "age                          34.0\n",
      "n_siblings_spouses              0\n",
      "parch                           0\n",
      "fare                         13.0\n",
      "class                      Second\n",
      "deck                            D\n",
      "embark_town           Southampton\n",
      "alone                           y\n",
      "Name: 4, dtype: object\n",
      "actual value is : 1\n",
      "predicted value is : [0.7685524 0.2314476]\n"
     ]
    }
   ],
   "source": [
    "print(df_eval.loc[4])\n",
    "print(f'actual value is : {y_eval.loc[4]}')\n",
    "print('predicted value is :' ,result[4]['probabilities']) #16.76%  = survival %"
   ]
  },
  {
   "cell_type": "code",
   "execution_count": null,
   "id": "79b77510",
   "metadata": {},
   "outputs": [],
   "source": []
  },
  {
   "cell_type": "markdown",
   "id": "d69bec3e",
   "metadata": {},
   "source": [
    "# Classification"
   ]
  },
  {
   "cell_type": "code",
   "execution_count": 27,
   "id": "172816ea",
   "metadata": {},
   "outputs": [],
   "source": [
    "CSV_COLUMN_NAMES = ['SepalLength', 'SepalWidth', 'PetalLength', 'PetalWidth', 'Species']\n",
    "SPECIES = ['Setosa', 'Versicolor', 'Virginica']"
   ]
  },
  {
   "cell_type": "code",
   "execution_count": 28,
   "id": "4474cf89",
   "metadata": {},
   "outputs": [],
   "source": [
    "# Downloads a file from a URL if it not already in the cache.\n",
    "train_path = tf.keras.utils.get_file(\n",
    "    fname=\"iris_training.csv\",\n",
    "    origin = \"https://storage.googleapis.com/download.tensorflow.org/data/iris_training.csv\")\n",
    "test_path = tf.keras.utils.get_file(\n",
    "    fname = \"iris_test.csv\",\n",
    "    origin = \"https://storage.googleapis.com/download.tensorflow.org/data/iris_test.csv\")"
   ]
  },
  {
   "cell_type": "code",
   "execution_count": 29,
   "id": "bf8f5417",
   "metadata": {},
   "outputs": [],
   "source": [
    "train = pd.read_csv(train_path, names=CSV_COLUMN_NAMES, header=0)\n",
    "test = pd.read_csv(test_path, names=CSV_COLUMN_NAMES, header=0)"
   ]
  },
  {
   "cell_type": "code",
   "execution_count": 30,
   "id": "99e4ddc1",
   "metadata": {},
   "outputs": [
    {
     "data": {
      "text/html": [
       "<div>\n",
       "<style scoped>\n",
       "    .dataframe tbody tr th:only-of-type {\n",
       "        vertical-align: middle;\n",
       "    }\n",
       "\n",
       "    .dataframe tbody tr th {\n",
       "        vertical-align: top;\n",
       "    }\n",
       "\n",
       "    .dataframe thead th {\n",
       "        text-align: right;\n",
       "    }\n",
       "</style>\n",
       "<table border=\"1\" class=\"dataframe\">\n",
       "  <thead>\n",
       "    <tr style=\"text-align: right;\">\n",
       "      <th></th>\n",
       "      <th>SepalLength</th>\n",
       "      <th>SepalWidth</th>\n",
       "      <th>PetalLength</th>\n",
       "      <th>PetalWidth</th>\n",
       "      <th>Species</th>\n",
       "    </tr>\n",
       "  </thead>\n",
       "  <tbody>\n",
       "    <tr>\n",
       "      <th>0</th>\n",
       "      <td>6.4</td>\n",
       "      <td>2.8</td>\n",
       "      <td>5.6</td>\n",
       "      <td>2.2</td>\n",
       "      <td>2</td>\n",
       "    </tr>\n",
       "    <tr>\n",
       "      <th>1</th>\n",
       "      <td>5.0</td>\n",
       "      <td>2.3</td>\n",
       "      <td>3.3</td>\n",
       "      <td>1.0</td>\n",
       "      <td>1</td>\n",
       "    </tr>\n",
       "    <tr>\n",
       "      <th>2</th>\n",
       "      <td>4.9</td>\n",
       "      <td>2.5</td>\n",
       "      <td>4.5</td>\n",
       "      <td>1.7</td>\n",
       "      <td>2</td>\n",
       "    </tr>\n",
       "    <tr>\n",
       "      <th>3</th>\n",
       "      <td>4.9</td>\n",
       "      <td>3.1</td>\n",
       "      <td>1.5</td>\n",
       "      <td>0.1</td>\n",
       "      <td>0</td>\n",
       "    </tr>\n",
       "    <tr>\n",
       "      <th>4</th>\n",
       "      <td>5.7</td>\n",
       "      <td>3.8</td>\n",
       "      <td>1.7</td>\n",
       "      <td>0.3</td>\n",
       "      <td>0</td>\n",
       "    </tr>\n",
       "    <tr>\n",
       "      <th>...</th>\n",
       "      <td>...</td>\n",
       "      <td>...</td>\n",
       "      <td>...</td>\n",
       "      <td>...</td>\n",
       "      <td>...</td>\n",
       "    </tr>\n",
       "    <tr>\n",
       "      <th>115</th>\n",
       "      <td>5.5</td>\n",
       "      <td>2.6</td>\n",
       "      <td>4.4</td>\n",
       "      <td>1.2</td>\n",
       "      <td>1</td>\n",
       "    </tr>\n",
       "    <tr>\n",
       "      <th>116</th>\n",
       "      <td>5.7</td>\n",
       "      <td>3.0</td>\n",
       "      <td>4.2</td>\n",
       "      <td>1.2</td>\n",
       "      <td>1</td>\n",
       "    </tr>\n",
       "    <tr>\n",
       "      <th>117</th>\n",
       "      <td>4.4</td>\n",
       "      <td>2.9</td>\n",
       "      <td>1.4</td>\n",
       "      <td>0.2</td>\n",
       "      <td>0</td>\n",
       "    </tr>\n",
       "    <tr>\n",
       "      <th>118</th>\n",
       "      <td>4.8</td>\n",
       "      <td>3.0</td>\n",
       "      <td>1.4</td>\n",
       "      <td>0.1</td>\n",
       "      <td>0</td>\n",
       "    </tr>\n",
       "    <tr>\n",
       "      <th>119</th>\n",
       "      <td>5.5</td>\n",
       "      <td>2.4</td>\n",
       "      <td>3.7</td>\n",
       "      <td>1.0</td>\n",
       "      <td>1</td>\n",
       "    </tr>\n",
       "  </tbody>\n",
       "</table>\n",
       "<p>120 rows × 5 columns</p>\n",
       "</div>"
      ],
      "text/plain": [
       "     SepalLength  SepalWidth  PetalLength  PetalWidth  Species\n",
       "0            6.4         2.8          5.6         2.2        2\n",
       "1            5.0         2.3          3.3         1.0        1\n",
       "2            4.9         2.5          4.5         1.7        2\n",
       "3            4.9         3.1          1.5         0.1        0\n",
       "4            5.7         3.8          1.7         0.3        0\n",
       "..           ...         ...          ...         ...      ...\n",
       "115          5.5         2.6          4.4         1.2        1\n",
       "116          5.7         3.0          4.2         1.2        1\n",
       "117          4.4         2.9          1.4         0.2        0\n",
       "118          4.8         3.0          1.4         0.1        0\n",
       "119          5.5         2.4          3.7         1.0        1\n",
       "\n",
       "[120 rows x 5 columns]"
      ]
     },
     "execution_count": 30,
     "metadata": {},
     "output_type": "execute_result"
    }
   ],
   "source": [
    "train\n",
    "# speces - > 0 (Setosa ),1('Versicolor'),2(Virginica)   "
   ]
  },
  {
   "cell_type": "code",
   "execution_count": 31,
   "id": "b4a8ade4",
   "metadata": {},
   "outputs": [
    {
     "data": {
      "text/html": [
       "<div>\n",
       "<style scoped>\n",
       "    .dataframe tbody tr th:only-of-type {\n",
       "        vertical-align: middle;\n",
       "    }\n",
       "\n",
       "    .dataframe tbody tr th {\n",
       "        vertical-align: top;\n",
       "    }\n",
       "\n",
       "    .dataframe thead th {\n",
       "        text-align: right;\n",
       "    }\n",
       "</style>\n",
       "<table border=\"1\" class=\"dataframe\">\n",
       "  <thead>\n",
       "    <tr style=\"text-align: right;\">\n",
       "      <th></th>\n",
       "      <th>SepalLength</th>\n",
       "      <th>SepalWidth</th>\n",
       "      <th>PetalLength</th>\n",
       "      <th>PetalWidth</th>\n",
       "    </tr>\n",
       "  </thead>\n",
       "  <tbody>\n",
       "    <tr>\n",
       "      <th>0</th>\n",
       "      <td>6.4</td>\n",
       "      <td>2.8</td>\n",
       "      <td>5.6</td>\n",
       "      <td>2.2</td>\n",
       "    </tr>\n",
       "    <tr>\n",
       "      <th>1</th>\n",
       "      <td>5.0</td>\n",
       "      <td>2.3</td>\n",
       "      <td>3.3</td>\n",
       "      <td>1.0</td>\n",
       "    </tr>\n",
       "    <tr>\n",
       "      <th>2</th>\n",
       "      <td>4.9</td>\n",
       "      <td>2.5</td>\n",
       "      <td>4.5</td>\n",
       "      <td>1.7</td>\n",
       "    </tr>\n",
       "    <tr>\n",
       "      <th>3</th>\n",
       "      <td>4.9</td>\n",
       "      <td>3.1</td>\n",
       "      <td>1.5</td>\n",
       "      <td>0.1</td>\n",
       "    </tr>\n",
       "    <tr>\n",
       "      <th>4</th>\n",
       "      <td>5.7</td>\n",
       "      <td>3.8</td>\n",
       "      <td>1.7</td>\n",
       "      <td>0.3</td>\n",
       "    </tr>\n",
       "  </tbody>\n",
       "</table>\n",
       "</div>"
      ],
      "text/plain": [
       "   SepalLength  SepalWidth  PetalLength  PetalWidth\n",
       "0          6.4         2.8          5.6         2.2\n",
       "1          5.0         2.3          3.3         1.0\n",
       "2          4.9         2.5          4.5         1.7\n",
       "3          4.9         3.1          1.5         0.1\n",
       "4          5.7         3.8          1.7         0.3"
      ]
     },
     "execution_count": 31,
     "metadata": {},
     "output_type": "execute_result"
    }
   ],
   "source": [
    "train_y = train.pop('Species')\n",
    "test_y = test.pop('Species')\n",
    "train.head() # the species column is now gone"
   ]
  },
  {
   "cell_type": "code",
   "execution_count": 32,
   "id": "352412cd",
   "metadata": {},
   "outputs": [
    {
     "data": {
      "text/plain": [
       "(120, 4)"
      ]
     },
     "execution_count": 32,
     "metadata": {},
     "output_type": "execute_result"
    }
   ],
   "source": [
    "train.shape #1 column removed"
   ]
  },
  {
   "cell_type": "code",
   "execution_count": 33,
   "id": "73893444",
   "metadata": {},
   "outputs": [
    {
     "data": {
      "text/plain": [
       "0      2\n",
       "1      1\n",
       "2      2\n",
       "3      0\n",
       "4      0\n",
       "      ..\n",
       "115    1\n",
       "116    1\n",
       "117    0\n",
       "118    0\n",
       "119    1\n",
       "Name: Species, Length: 120, dtype: int64"
      ]
     },
     "execution_count": 33,
     "metadata": {},
     "output_type": "execute_result"
    }
   ],
   "source": [
    "train_y"
   ]
  },
  {
   "cell_type": "code",
   "execution_count": 34,
   "id": "32c4131e",
   "metadata": {},
   "outputs": [],
   "source": [
    "# Input function -> to convert our dataframe to 'tf.data.Dataset object'\n",
    "def input_fn(features, labels, training=True, batch_size=256):\n",
    "    # Convert the inputs to a Dataset.\n",
    "    dataset = tf.data.Dataset.from_tensor_slices((dict(features), labels))\n",
    "\n",
    "    # Shuffle and repeat if you are in training mode.\n",
    "    if training:\n",
    "        # The method shuffle() shuffles the samples in the dataset.\n",
    "        #The buffer_size is the number of samples which are randomized and returned as tf.Dataset.\n",
    "        dataset = dataset.shuffle(1000).repeat()\n",
    "    \n",
    "    #batch(batch_size) -> Creates batches of the dataset with batch size given as batch_size\n",
    "    #which is also the length of the batches.\n",
    "    return dataset.batch(batch_size)\n"
   ]
  },
  {
   "cell_type": "code",
   "execution_count": 35,
   "id": "cf641101",
   "metadata": {},
   "outputs": [
    {
     "name": "stdout",
     "output_type": "stream",
     "text": [
      "[NumericColumn(key='SepalLength', shape=(1,), default_value=None, dtype=tf.float32, normalizer_fn=None), NumericColumn(key='SepalWidth', shape=(1,), default_value=None, dtype=tf.float32, normalizer_fn=None), NumericColumn(key='PetalLength', shape=(1,), default_value=None, dtype=tf.float32, normalizer_fn=None), NumericColumn(key='PetalWidth', shape=(1,), default_value=None, dtype=tf.float32, normalizer_fn=None)]\n"
     ]
    }
   ],
   "source": [
    "# Feature columns describe how to use the input.\n",
    "\n",
    "my_feature_columns = []\n",
    "for feature_names in train.keys():\n",
    "    \n",
    "#     tf.feature_column.numeric_column -> Represents real valued or numerical features.\n",
    "    my_feature_columns.append(tf.feature_column.numeric_column(key=feature_names))\n",
    "print(my_feature_columns)"
   ]
  },
  {
   "cell_type": "code",
   "execution_count": 36,
   "id": "88deeb65",
   "metadata": {},
   "outputs": [
    {
     "name": "stdout",
     "output_type": "stream",
     "text": [
      "INFO:tensorflow:Using default config.\n",
      "WARNING:tensorflow:Using temporary folder as model directory: C:\\Users\\nishc\\AppData\\Local\\Temp\\tmp7x_lif9a\n",
      "INFO:tensorflow:Using config: {'_model_dir': 'C:\\\\Users\\\\nishc\\\\AppData\\\\Local\\\\Temp\\\\tmp7x_lif9a', '_tf_random_seed': None, '_save_summary_steps': 100, '_save_checkpoints_steps': None, '_save_checkpoints_secs': 600, '_session_config': allow_soft_placement: true\n",
      "graph_options {\n",
      "  rewrite_options {\n",
      "    meta_optimizer_iterations: ONE\n",
      "  }\n",
      "}\n",
      ", '_keep_checkpoint_max': 5, '_keep_checkpoint_every_n_hours': 10000, '_log_step_count_steps': 100, '_train_distribute': None, '_device_fn': None, '_protocol': None, '_eval_distribute': None, '_experimental_distribute': None, '_experimental_max_worker_delay_secs': None, '_session_creation_timeout_secs': 7200, '_checkpoint_save_graph_def': True, '_service': None, '_cluster_spec': ClusterSpec({}), '_task_type': 'worker', '_task_id': 0, '_global_id_in_cluster': 0, '_master': '', '_evaluation_master': '', '_is_chief': True, '_num_ps_replicas': 0, '_num_worker_replicas': 1}\n"
     ]
    }
   ],
   "source": [
    "# building a model\n",
    "# DNN(Deep Neural Network) is best to choose because we may not be able to find a linear\n",
    "# correspondance in our data\n",
    "\n",
    "# DNN with 2  hidden layers with 30 and 10 hidden nodes each\n",
    "classifier = tf.estimator.DNNClassifier(\n",
    "                       # Two hidden layer with 30 and 10 hidden units respectively\n",
    "                                        hidden_units = [30,10],\n",
    "                                        feature_columns = my_feature_columns,\n",
    "                      # The model must choose between 3 classes\n",
    "                                        n_classes = 3\n",
    "                                        )"
   ]
  },
  {
   "cell_type": "code",
   "execution_count": 37,
   "id": "188e1157",
   "metadata": {},
   "outputs": [
    {
     "name": "stdout",
     "output_type": "stream",
     "text": [
      "INFO:tensorflow:Calling model_fn.\n",
      "INFO:tensorflow:Done calling model_fn.\n",
      "INFO:tensorflow:Create CheckpointSaverHook.\n",
      "INFO:tensorflow:Graph was finalized.\n",
      "INFO:tensorflow:Running local_init_op.\n",
      "INFO:tensorflow:Done running local_init_op.\n",
      "INFO:tensorflow:Calling checkpoint listeners before saving checkpoint 0...\n",
      "INFO:tensorflow:Saving checkpoints for 0 into C:\\Users\\nishc\\AppData\\Local\\Temp\\tmp7x_lif9a\\model.ckpt.\n",
      "INFO:tensorflow:Calling checkpoint listeners after saving checkpoint 0...\n",
      "INFO:tensorflow:loss = 1.4850173, step = 0\n",
      "INFO:tensorflow:global_step/sec: 146.378\n",
      "INFO:tensorflow:loss = 1.0728626, step = 100 (0.685 sec)\n",
      "INFO:tensorflow:global_step/sec: 216.325\n",
      "INFO:tensorflow:loss = 1.0148983, step = 200 (0.462 sec)\n",
      "INFO:tensorflow:global_step/sec: 213.8\n",
      "INFO:tensorflow:loss = 0.97973865, step = 300 (0.467 sec)\n",
      "INFO:tensorflow:global_step/sec: 227.517\n",
      "INFO:tensorflow:loss = 0.9609742, step = 400 (0.439 sec)\n",
      "INFO:tensorflow:global_step/sec: 165.176\n",
      "INFO:tensorflow:loss = 0.9365417, step = 500 (0.613 sec)\n",
      "INFO:tensorflow:global_step/sec: 109.754\n",
      "INFO:tensorflow:loss = 0.91683906, step = 600 (0.906 sec)\n",
      "INFO:tensorflow:global_step/sec: 164.212\n",
      "INFO:tensorflow:loss = 0.89558035, step = 700 (0.607 sec)\n",
      "INFO:tensorflow:global_step/sec: 212.616\n",
      "INFO:tensorflow:loss = 0.87665117, step = 800 (0.471 sec)\n",
      "INFO:tensorflow:global_step/sec: 210.746\n",
      "INFO:tensorflow:loss = 0.8601302, step = 900 (0.473 sec)\n",
      "INFO:tensorflow:global_step/sec: 211.073\n",
      "INFO:tensorflow:loss = 0.847678, step = 1000 (0.475 sec)\n",
      "INFO:tensorflow:global_step/sec: 227.906\n",
      "INFO:tensorflow:loss = 0.8330105, step = 1100 (0.438 sec)\n",
      "INFO:tensorflow:global_step/sec: 206.21\n",
      "INFO:tensorflow:loss = 0.81330967, step = 1200 (0.485 sec)\n",
      "INFO:tensorflow:global_step/sec: 211.612\n",
      "INFO:tensorflow:loss = 0.79295504, step = 1300 (0.473 sec)\n",
      "INFO:tensorflow:global_step/sec: 218.04\n",
      "INFO:tensorflow:loss = 0.7858375, step = 1400 (0.459 sec)\n",
      "INFO:tensorflow:global_step/sec: 236.619\n",
      "INFO:tensorflow:loss = 0.77571166, step = 1500 (0.424 sec)\n",
      "INFO:tensorflow:global_step/sec: 253.736\n",
      "INFO:tensorflow:loss = 0.75989777, step = 1600 (0.393 sec)\n",
      "INFO:tensorflow:global_step/sec: 220.957\n",
      "INFO:tensorflow:loss = 0.7475232, step = 1700 (0.454 sec)\n",
      "INFO:tensorflow:global_step/sec: 215.862\n",
      "INFO:tensorflow:loss = 0.73176557, step = 1800 (0.462 sec)\n",
      "INFO:tensorflow:global_step/sec: 210.713\n",
      "INFO:tensorflow:loss = 0.7132493, step = 1900 (0.474 sec)\n",
      "INFO:tensorflow:global_step/sec: 222.799\n",
      "INFO:tensorflow:loss = 0.7112284, step = 2000 (0.449 sec)\n",
      "INFO:tensorflow:global_step/sec: 227.64\n",
      "INFO:tensorflow:loss = 0.6911938, step = 2100 (0.439 sec)\n",
      "INFO:tensorflow:global_step/sec: 232.165\n",
      "INFO:tensorflow:loss = 0.68512344, step = 2200 (0.431 sec)\n",
      "INFO:tensorflow:global_step/sec: 216.074\n",
      "INFO:tensorflow:loss = 0.6677639, step = 2300 (0.464 sec)\n",
      "INFO:tensorflow:global_step/sec: 212.585\n",
      "INFO:tensorflow:loss = 0.6564915, step = 2400 (0.469 sec)\n",
      "INFO:tensorflow:global_step/sec: 209.084\n",
      "INFO:tensorflow:loss = 0.6462096, step = 2500 (0.478 sec)\n",
      "INFO:tensorflow:global_step/sec: 238.558\n",
      "INFO:tensorflow:loss = 0.63668716, step = 2600 (0.417 sec)\n",
      "INFO:tensorflow:global_step/sec: 207.5\n",
      "INFO:tensorflow:loss = 0.62669957, step = 2700 (0.484 sec)\n",
      "INFO:tensorflow:global_step/sec: 200.231\n",
      "INFO:tensorflow:loss = 0.6142055, step = 2800 (0.500 sec)\n",
      "INFO:tensorflow:global_step/sec: 217.661\n",
      "INFO:tensorflow:loss = 0.6062732, step = 2900 (0.459 sec)\n",
      "INFO:tensorflow:global_step/sec: 199.553\n",
      "INFO:tensorflow:loss = 0.59766716, step = 3000 (0.501 sec)\n",
      "INFO:tensorflow:global_step/sec: 204.912\n",
      "INFO:tensorflow:loss = 0.58979356, step = 3100 (0.489 sec)\n",
      "INFO:tensorflow:global_step/sec: 197.56\n",
      "INFO:tensorflow:loss = 0.5780326, step = 3200 (0.507 sec)\n",
      "INFO:tensorflow:global_step/sec: 202.404\n",
      "INFO:tensorflow:loss = 0.5691269, step = 3300 (0.493 sec)\n",
      "INFO:tensorflow:global_step/sec: 229.769\n",
      "INFO:tensorflow:loss = 0.57722694, step = 3400 (0.435 sec)\n",
      "INFO:tensorflow:global_step/sec: 229.423\n",
      "INFO:tensorflow:loss = 0.5503286, step = 3500 (0.436 sec)\n",
      "INFO:tensorflow:global_step/sec: 221.388\n",
      "INFO:tensorflow:loss = 0.5416503, step = 3600 (0.452 sec)\n",
      "INFO:tensorflow:global_step/sec: 200.728\n",
      "INFO:tensorflow:loss = 0.5290725, step = 3700 (0.501 sec)\n",
      "INFO:tensorflow:global_step/sec: 191.702\n",
      "INFO:tensorflow:loss = 0.5323262, step = 3800 (0.520 sec)\n",
      "INFO:tensorflow:global_step/sec: 238.736\n",
      "INFO:tensorflow:loss = 0.51741815, step = 3900 (0.419 sec)\n",
      "INFO:tensorflow:global_step/sec: 220.864\n",
      "INFO:tensorflow:loss = 0.521211, step = 4000 (0.452 sec)\n",
      "INFO:tensorflow:global_step/sec: 212.313\n",
      "INFO:tensorflow:loss = 0.5091038, step = 4100 (0.471 sec)\n",
      "INFO:tensorflow:global_step/sec: 201.216\n",
      "INFO:tensorflow:loss = 0.4970553, step = 4200 (0.497 sec)\n",
      "INFO:tensorflow:global_step/sec: 214.312\n",
      "INFO:tensorflow:loss = 0.5005549, step = 4300 (0.467 sec)\n",
      "INFO:tensorflow:global_step/sec: 219.097\n",
      "INFO:tensorflow:loss = 0.473087, step = 4400 (0.456 sec)\n",
      "INFO:tensorflow:global_step/sec: 227.574\n",
      "INFO:tensorflow:loss = 0.4755288, step = 4500 (0.438 sec)\n",
      "INFO:tensorflow:global_step/sec: 229.9\n",
      "INFO:tensorflow:loss = 0.4777344, step = 4600 (0.436 sec)\n",
      "INFO:tensorflow:global_step/sec: 226.279\n",
      "INFO:tensorflow:loss = 0.46501017, step = 4700 (0.441 sec)\n",
      "INFO:tensorflow:global_step/sec: 226.54\n",
      "INFO:tensorflow:loss = 0.4604717, step = 4800 (0.443 sec)\n",
      "INFO:tensorflow:global_step/sec: 191.12\n",
      "INFO:tensorflow:loss = 0.45583904, step = 4900 (0.526 sec)\n",
      "INFO:tensorflow:Calling checkpoint listeners before saving checkpoint 5000...\n",
      "INFO:tensorflow:Saving checkpoints for 5000 into C:\\Users\\nishc\\AppData\\Local\\Temp\\tmp7x_lif9a\\model.ckpt.\n",
      "INFO:tensorflow:Calling checkpoint listeners after saving checkpoint 5000...\n",
      "INFO:tensorflow:Loss for final step: 0.44414416.\n"
     ]
    },
    {
     "data": {
      "text/plain": [
       "<tensorflow_estimator.python.estimator.canned.dnn.DNNClassifierV2 at 0x1cb016d84c0>"
      ]
     },
     "execution_count": 37,
     "metadata": {},
     "output_type": "execute_result"
    }
   ],
   "source": [
    "#train the model\n",
    "classifier.train(input_fn = lambda: input_fn(features=train,labels=train_y,training=True),\n",
    "                steps = 5000)"
   ]
  },
  {
   "cell_type": "code",
   "execution_count": 38,
   "id": "2e4b88b1",
   "metadata": {},
   "outputs": [
    {
     "name": "stdout",
     "output_type": "stream",
     "text": [
      "INFO:tensorflow:Calling model_fn.\n",
      "INFO:tensorflow:Done calling model_fn.\n",
      "INFO:tensorflow:Starting evaluation at 2022-07-16T09:32:56\n",
      "INFO:tensorflow:Graph was finalized.\n",
      "INFO:tensorflow:Restoring parameters from C:\\Users\\nishc\\AppData\\Local\\Temp\\tmp7x_lif9a\\model.ckpt-5000\n",
      "INFO:tensorflow:Running local_init_op.\n",
      "INFO:tensorflow:Done running local_init_op.\n",
      "INFO:tensorflow:Inference Time : 0.35538s\n",
      "INFO:tensorflow:Finished evaluation at 2022-07-16-09:32:56\n",
      "INFO:tensorflow:Saving dict for global step 5000: accuracy = 0.93333334, average_loss = 0.52696794, global_step = 5000, loss = 0.52696794\n",
      "INFO:tensorflow:Saving 'checkpoint_path' summary for global step 5000: C:\\Users\\nishc\\AppData\\Local\\Temp\\tmp7x_lif9a\\model.ckpt-5000\n",
      "\n",
      "Test set accuracy :{'accuracy': 0.93333334, 'average_loss': 0.52696794, 'loss': 0.52696794, 'global_step': 5000}\n"
     ]
    }
   ],
   "source": [
    "# evaluate the model on the test set\n",
    "eval_result = classifier.evaluate(input_fn=lambda:input_fn(features=test,labels=test_y,training=False))\n",
    "print(f'\\nTest set accuracy :{eval_result}')"
   ]
  },
  {
   "cell_type": "code",
   "execution_count": 39,
   "id": "30939ccb",
   "metadata": {},
   "outputs": [],
   "source": [
    "# input funtion for predictions(this make a tf.Dataset without the labels)\n",
    "def input_fn(features,batch_size=256):\n",
    "    #convert the inputs to a Dataset without 'labels'\n",
    "    return tf.data.Dataset.from_tensor_slices(dict(features)).batch(batch_size)"
   ]
  },
  {
   "cell_type": "code",
   "execution_count": 48,
   "id": "d6eefbe0",
   "metadata": {},
   "outputs": [
    {
     "name": "stdout",
     "output_type": "stream",
     "text": [
      "Please type numeric values as prompted. \n",
      "SepalLength: 1.1\n",
      "is valid is false\n",
      "1.1\n",
      "{'SepalLength': [1.1]}\n",
      "SepalWidth: 2\n",
      "2\n",
      "SepalWidth: 3\n",
      "3\n",
      "SepalWidth: 3\n",
      "3\n",
      "SepalWidth: 3\n",
      "3\n",
      "SepalWidth: 1.1\n",
      "is valid is false\n",
      "1.1\n",
      "{'SepalLength': [1.1], 'SepalWidth': [1.1]}\n",
      "PetalLength: 2.2\n",
      "is valid is false\n",
      "2.2\n",
      "{'SepalLength': [1.1], 'SepalWidth': [1.1], 'PetalLength': [2.2]}\n",
      "PetalWidth: 3.3\n",
      "is valid is false\n",
      "3.3\n",
      "{'SepalLength': [1.1], 'SepalWidth': [1.1], 'PetalLength': [2.2], 'PetalWidth': [3.3]}\n",
      "INFO:tensorflow:Calling model_fn.\n",
      "INFO:tensorflow:Done calling model_fn.\n",
      "INFO:tensorflow:Graph was finalized.\n",
      "INFO:tensorflow:Restoring parameters from C:\\Users\\nishc\\AppData\\Local\\Temp\\tmp7x_lif9a\\model.ckpt-5000\n",
      "INFO:tensorflow:Running local_init_op.\n",
      "INFO:tensorflow:Done running local_init_op.\n",
      "{'logits': array([ 0.04210806, -0.92055744,  1.3038183 ], dtype=float32), 'probabilities': array([0.20352796, 0.07772197, 0.71875006], dtype=float32), 'class_ids': array([2], dtype=int64), 'classes': array([b'2'], dtype=object), 'all_class_ids': array([0, 1, 2]), 'all_classes': array([b'0', b'1', b'2'], dtype=object)}\n",
      "Predictions is \"Virginica\" (71.9%)\n"
     ]
    }
   ],
   "source": [
    "features = ['SepalLength','SepalWidth','PetalLength','PetalWidth']\n",
    "predict = {}\n",
    "\n",
    "print('Please type numeric values as prompted. ')\n",
    "for feature in features:\n",
    "    valid = True\n",
    "    while valid == True:\n",
    "        val = input(feature + \": \")\n",
    "        if not val.isdigit():\n",
    "            print('is valid is false')\n",
    "            valid = False\n",
    "        print(val)\n",
    "    predict[feature] = [float(val)] #the predict() in tf works on multiple things and not just one value\n",
    "    print(predict)\n",
    "    \n",
    "predictions = classifier.predict(input_fn=lambda:input_fn(predict))\n",
    "for pred_dict in predictions:\n",
    "    print(pred_dict)\n",
    "#     the 'predictions' has predictions in form of dictionaries\n",
    "    class_id = pred_dict['class_ids'][0]\n",
    "    probability = pred_dict['probabilities'][class_id]\n",
    "    \n",
    "    print('Predictions is \"{}\" ({:.1f}%)'.format(SPECIES[class_id],100 * probability))"
   ]
  },
  {
   "cell_type": "code",
   "execution_count": null,
   "id": "0af0285d",
   "metadata": {},
   "outputs": [],
   "source": []
  },
  {
   "cell_type": "markdown",
   "id": "00029a0d",
   "metadata": {},
   "source": [
    "# Hidden Markov Model"
   ]
  },
  {
   "cell_type": "markdown",
   "id": "09a55aec",
   "metadata": {},
   "source": [
    "States: In each markov model we have a finite set of states. These states could be something like \"warm\" and \"cold\" or \"high\" and \"low\" or even \"red\", \"green\" and \"blue\". These states are \"hidden\" within the model,\n",
    "which means we do not direcly observe them.\n",
    "\n",
    "Observations: Each state has a particular outcome or observation associated with it based on a probability distribution. An example of this is the following: On a hot day Tim has a 80% chance of being happy and a 20% chance of being sad.\n",
    "\n",
    "Transitions: Each state will have a probability defining the likelyhood of transitioning to a different state. An example is the following: a cold day has a 30% chance of being followed by a hot day and a 70% chance of being follwed by another cold day.\n",
    "\n",
    "To create a hidden markov model we need.\n",
    "\n",
    "States ,\n",
    "Observation Distribution ,\n",
    "Transition Distribution"
   ]
  },
  {
   "cell_type": "code",
   "execution_count": 49,
   "id": "2eeb10e4",
   "metadata": {},
   "outputs": [],
   "source": [
    "import tensorflow_probability as tfp #different module from tensorflow"
   ]
  },
  {
   "cell_type": "markdown",
   "id": "d6fa2fab",
   "metadata": {},
   "source": [
    "We will model a simple weather system and try to predict the temperature on each day given the following information.\n",
    "\n",
    "1.Cold days are encoded by a 0 and hot days are encoded by a 1.<br>\n",
    "2.The first day in our sequence has an 80% chance of being cold.<br>\n",
    "3.A cold day has a 30% chance of being followed by a hot day.<br>\n",
    "4.A hot day has a 20% chance of being followed by a cold day.<br>\n",
    "5.On each day the temperature is normally distributed with mean and standard deviation 0 and 5 on a cold day and mean and standard deviation 15 and 10 on a hot day."
   ]
  },
  {
   "cell_type": "code",
   "execution_count": 51,
   "id": "f8267f0b",
   "metadata": {},
   "outputs": [],
   "source": [
    "tfd = tfp.distributions\n",
    "#point 2 (we have 2 states(hot and cold) , so 2 probabilities)\n",
    "# starting on a cold day ,80% chance of being cold, 20% chance of being hot\n",
    "initial_distribution = tfd.Categorical(probs=[0.8,0.2])\n",
    "\n",
    "# point 3 and 4 (we have 2 states(hot and cold) , so 2 probabilities)\n",
    "# on a cold day, we have a 70% chance of having a cold day and 30% change of having hot day\n",
    "# on a hot day, we have a 20% chance of having a cold day and 80% change of having hot day\n",
    "transition_distribution = tfd.Categorical(probs=[[0.7,0.3],\n",
    "                                                 [0.2,0.8]])\n",
    "\n",
    "# the loc arguement is mean and scale is standard deviation\n",
    "observation_distribution = tfd.Normal(loc=[0.,15.],scale=[5.,10.])"
   ]
  },
  {
   "cell_type": "code",
   "execution_count": 53,
   "id": "552a20b1",
   "metadata": {},
   "outputs": [],
   "source": [
    "# create a hidden markov model\n",
    "model = tfd.HiddenMarkovModel(initial_distribution=initial_distribution,\n",
    "                              transition_distribution=transition_distribution,\n",
    "                              observation_distribution=observation_distribution,\n",
    "                              num_steps = 7)\n",
    "\n",
    "# num_steps -> the number of days that we would like to predict information.\n",
    "# here num_steps = 7 so entire week"
   ]
  },
  {
   "cell_type": "code",
   "execution_count": 54,
   "id": "9c794bdc",
   "metadata": {},
   "outputs": [
    {
     "name": "stdout",
     "output_type": "stream",
     "text": [
      "[2.9999998 5.9999995 7.4999995 8.25      8.625     8.812501  8.90625  ]\n"
     ]
    }
   ],
   "source": [
    "mean = model.mean()\n",
    "\n",
    "with tf.compat.v1.Session() as sess:\n",
    "    print(mean.numpy())\n",
    "    \n",
    "# we have the expected temperatures on each day\n",
    "# remember we stated with a cold day (80%) probability, temprature is going higher"
   ]
  },
  {
   "cell_type": "code",
   "execution_count": 58,
   "id": "632e369a",
   "metadata": {},
   "outputs": [],
   "source": [
    "# adjusting the probabilities\n",
    "# starting on a hot day\n",
    "initial_distribution = tfd.Categorical(probs=[0.2,0.8])\n",
    "\n",
    "# point 3 and 4 (we have 2 states(hot and cold) , so 2 probabilities)\n",
    "# on a cold day, we have a 50% chance of having a cold day and 50% change of having hot day\n",
    "# on a hot day, we have a 20% chance of having a cold day and 80% change of having hot day\n",
    "transition_distribution = tfd.Categorical(probs=[[0.5,0.5],\n",
    "                                                 [0.2,0.8]])\n",
    "\n",
    "# the loc arguement is mean and scale is standard deviation\n",
    "observation_distribution = tfd.Normal(loc=[0.,15.],scale=[5.,10.])"
   ]
  },
  {
   "cell_type": "code",
   "execution_count": 59,
   "id": "78e8e066",
   "metadata": {},
   "outputs": [],
   "source": [
    "model = tfd.HiddenMarkovModel(initial_distribution=initial_distribution,\n",
    "                              transition_distribution=transition_distribution,\n",
    "                              observation_distribution=observation_distribution,\n",
    "                              num_steps = 7)"
   ]
  },
  {
   "cell_type": "code",
   "execution_count": 60,
   "id": "b23efb22",
   "metadata": {},
   "outputs": [
    {
     "name": "stdout",
     "output_type": "stream",
     "text": [
      "[11.999999 11.1      10.830001 10.748999 10.724698 10.71741  10.715222]\n"
     ]
    }
   ],
   "source": [
    "mean = model.mean()\n",
    "\n",
    "with tf.compat.v1.Session() as sess:\n",
    "    print(mean.numpy())\n",
    "    \n",
    "# temperature is decreasing slightly"
   ]
  },
  {
   "cell_type": "code",
   "execution_count": null,
   "id": "a435d2a9",
   "metadata": {},
   "outputs": [],
   "source": []
  }
 ],
 "metadata": {
  "kernelspec": {
   "display_name": "Python 3 (ipykernel)",
   "language": "python",
   "name": "python3"
  },
  "language_info": {
   "codemirror_mode": {
    "name": "ipython",
    "version": 3
   },
   "file_extension": ".py",
   "mimetype": "text/x-python",
   "name": "python",
   "nbconvert_exporter": "python",
   "pygments_lexer": "ipython3",
   "version": "3.9.7"
  }
 },
 "nbformat": 4,
 "nbformat_minor": 5
}
